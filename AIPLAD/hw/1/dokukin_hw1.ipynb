{
 "cells": [
  {
   "cell_type": "markdown",
   "metadata": {},
   "source": [
    "**Общая информация**\n",
    "\n",
    "**Срок сдачи:** 18 октября 2017, 06:00 <br\\>\n",
    "**Штраф за опоздание:** -2 балла после 06:00 18 октября, -4 балла после 06:00 25 октября, -6 баллов после 06:00 1 ноября\n",
    "\n",
    "При отправлении ДЗ указывайте фамилию в названии файла\n",
    "Присылать ДЗ необходимо в виде ссылки на свой github репозиторий в slack @alkhamush\n",
    "\n",
    "Необходимо в slack создать таск в приватный чат:\n",
    "/todo Фамилия Имя ссылка на гитхаб @alkhamush\n",
    "Пример:\n",
    "/todo Ксения Стройкова https://github.com/stroykova/spheremailru/stroykova_hw1.ipynb @alkhamush\n",
    "Дополнительно нужно просто скинуть ссылку в slack в личный чат\n",
    "\n",
    "Используйте данный Ipython Notebook при оформлении домашнего задания."
   ]
  },
  {
   "cell_type": "markdown",
   "metadata": {},
   "source": [
    "###### Задание 1 (2 баллов)\n",
    "Реализовать KNN в классе MyKNeighborsClassifier (обязательное условие: точность не ниже sklearn реализации)\n",
    "Разберитесь самостоятельно, какая мера расстояния используется в KNeighborsClassifier дефолтно и реализуйте свой алгоритм именно с этой мерой. Самостоятельно разберитесь, как считается score из KNeighborsClassifier и реализуйте аналог в своём классе. Score не должен уступать значению KNN из sklearn\n",
    "\n",
    "###### Задание 2 (2 балла)\n",
    "Добиться скорости работы на fit,  predict и predict_proba сравнимой со sklearn для iris и mnist\n",
    "Для этого используем numpy\n",
    "\n",
    "###### Задание 3 (2 балла)\n",
    "Для iris найдите такой параметр n_neighbors, при котором выдаётся наилучший score. Нарисуйте график зависимости score от n_neighbors\n",
    "\n",
    "###### Задание 4 (3 балла)\n",
    "Добавить algorithm='kd_tree' в реализацию KNN (использовать KDTree из sklearn.neighbors). Значение n_neighbors нужно взять из задания 3. Добиться скорости работы на fit,  predict и predict_proba сравнимой со sklearn для iris и mnist\n",
    "Для этого используем numpy. Score не должен уступать значению KNN из sklearn\n",
    "\n",
    "###### Задание 5 (1 балла)\n",
    "Описать для чего нужны следующие библиотеки/классы/функции (список будет ниже)\n",
    "\n",
    "**Штрафные баллы:**\n",
    "\n",
    "1. Невыполнение PEP8 -1 балл\n",
    "2. Отсутствие фамилии в имени скрипта (скрипт должен называться по аналогии со stroykova_hw1.ipynb) -1 балл\n",
    "3. Все строчки должны быть выполнены. Нужно, чтобы output команды можно было увидеть уже в git'е. В противном случае -1 балл\n",
    "4. При оформлении ДЗ нужно пользоваться данным файлом в качестве шаблона. Не нужно удалять и видоизменять структуру кода и текст. В противном случае -1 балл\n"
   ]
  },
  {
   "cell_type": "code",
   "execution_count": 1,
   "metadata": {},
   "outputs": [],
   "source": [
    "import numpy as np\n",
    "import matplotlib.pyplot as plt\n",
    "\n",
    "import seaborn as sns\n",
    "from sklearn import datasets\n",
    "from sklearn.base import ClassifierMixin\n",
    "from sklearn.datasets import fetch_mldata\n",
    "from sklearn.neighbors.base import NeighborsBase, KNeighborsMixin, SupervisedIntegerMixin \n",
    "from sklearn.model_selection import train_test_split\n",
    "from sklearn.neighbors import KNeighborsClassifier\n",
    "%load_ext pycodestyle_magic"
   ]
  },
  {
   "cell_type": "markdown",
   "metadata": {},
   "source": [
    "**IRIS**"
   ]
  },
  {
   "cell_type": "code",
   "execution_count": 2,
   "metadata": {},
   "outputs": [],
   "source": [
    "#%%pycodestyle\n",
    "\n",
    "import numpy as np\n",
    "from sklearn.neighbors import KDTree\n",
    "from sklearn.preprocessing import StandardScaler\n",
    "\n",
    "\n",
    "class MyKNeighborsClassifier(NeighborsBase, KNeighborsMixin,\n",
    "                             SupervisedIntegerMixin, ClassifierMixin):\n",
    "    def __init__(self, n_neighbors, algorithm='brute'):\n",
    "        self.n_neighbors = n_neighbors\n",
    "        self.algorithm = algorithm\n",
    "\n",
    "    def fit(self, X, y):\n",
    "        scaler =  StandardScaler().fit(X)\n",
    "        self.X = scaler.transform(X)\n",
    "        self.y = np.array(y)\n",
    "        self.classes = np.unique(y)\n",
    "        self.X2 = (self.X ** 2).sum(axis=1)\n",
    "        if self.algorithm == 'kd_tree':\n",
    "            self.tree = KDTree(self.X)\n",
    "\n",
    "    def predict(self, X):\n",
    "        scaler =  StandardScaler().fit(X)\n",
    "        X = scaler.transform(X)\n",
    "        if self.algorithm == 'brute':\n",
    "            return self.predictBrute(X)\n",
    "        elif self.algorithm == 'kd_tree':\n",
    "            return self.predictTree(X)\n",
    "\n",
    "    def predictBrute(self, X):\n",
    "        X2 = (X**2).sum(axis=1)\n",
    "        dist = np.sqrt(X2.reshape(-1, 1) + self.X2 - 2*np.dot(X, self.X.T))\n",
    "        predict = self.y[np.argsort(dist)[:, :self.n_neighbors]]\n",
    "        result = np.empty(X.shape[0], dtype=int)\n",
    "        for i in range(X.shape[0]):\n",
    "            res_temp = np.zeros(len(self.classes), dtype=int)\n",
    "            for j in range(predict.shape[1]):\n",
    "                res_temp[int(round(predict[i,j], 0))] += 1\n",
    "            result[i] = res_temp.argmax()\n",
    "        return result\n",
    "\n",
    "    def predictTree(self, X):\n",
    "        res_temp = np.zeros((X.shape[0], len(self.classes)), dtype=float)\n",
    "        result = np.empty(X.shape[0], dtype=int)\n",
    "        dist, ind = self.tree.query(X, k=self.n_neighbors)\n",
    "        predict = self.y[ind]\n",
    "        for i in range(X.shape[0]):\n",
    "            for j in range(self.n_neighbors):\n",
    "                res_temp[i][int(round(predict[i, j], 0))] += 1\n",
    "            result[i] = np.argmax(res_temp[i])\n",
    "        return result\n",
    "\n",
    "    def predict_proba(self, X):\n",
    "        scaler =  StandardScaler().fit(X)\n",
    "        X = scaler.transform(X)\n",
    "        if self.algorithm == 'brute':\n",
    "            return self.predictBrute_proba(X)\n",
    "        elif self.algorithm == 'kd_tree':\n",
    "            return self.predictTree_proba(X)\n",
    "\n",
    "    def predictBrute_proba(self, X):\n",
    "        X2 = (X**2).sum(axis=1)\n",
    "        dist = X2.reshape(-1, 1) + self.X2 - 2*np.dot(X, self.X.T)\n",
    "        predict = self.y[np.argsort(dist)[:, :self.n_neighbors]]\n",
    "        result = np.zeros((X.shape[0], len(self.classes)), dtype=float)\n",
    "        for i in range(X.shape[0]):\n",
    "            for j in range(self.n_neighbors):\n",
    "                result[i][int(round(predict[i, j], 0))] += 1\n",
    "            result[i] /= self.n_neighbors\n",
    "        return result\n",
    "\n",
    "    def predictTree_proba(self, X):\n",
    "        dist, ind = self.tree.query(X, k=self.n_neighbors)\n",
    "        predict = self.y[ind]\n",
    "        result = np.zeros((X.shape[0], len(self.classes)), dtype=float)\n",
    "        for i in range(X.shape[0]):\n",
    "            for j in range(self.n_neighbors):\n",
    "                result[i][int(round(predict[i, j], 0))] += 1\n",
    "            result[i] /= self.n_neighbors\n",
    "        return result\n",
    "\n",
    "    def score(self, X, y):\n",
    "        y_train = self.predict(X)\n",
    "        result = 0\n",
    "        for i in range(len(y_train)):\n",
    "            if y_train[i] == y[i]:\n",
    "                result += 1\n",
    "        return result / len(y)"
   ]
  },
  {
   "cell_type": "code",
   "execution_count": 3,
   "metadata": {},
   "outputs": [],
   "source": [
    "iris = datasets.load_iris()"
   ]
  },
  {
   "cell_type": "code",
   "execution_count": 4,
   "metadata": {},
   "outputs": [],
   "source": [
    "X_train, X_test, y_train, y_test = train_test_split(iris.data, iris.target, test_size=0.1, stratify=iris.target)"
   ]
  },
  {
   "cell_type": "code",
   "execution_count": 5,
   "metadata": {},
   "outputs": [],
   "source": [
    "clf = KNeighborsClassifier(n_neighbors=2)\n",
    "my_clf = MyKNeighborsClassifier(n_neighbors=2)"
   ]
  },
  {
   "cell_type": "code",
   "execution_count": 6,
   "metadata": {},
   "outputs": [
    {
     "name": "stdout",
     "output_type": "stream",
     "text": [
      "Wall time: 1e+03 µs\n"
     ]
    },
    {
     "data": {
      "text/plain": [
       "KNeighborsClassifier(algorithm='auto', leaf_size=30, metric='minkowski',\n",
       "           metric_params=None, n_jobs=1, n_neighbors=2, p=2,\n",
       "           weights='uniform')"
      ]
     },
     "execution_count": 6,
     "metadata": {},
     "output_type": "execute_result"
    }
   ],
   "source": [
    "%time clf.fit(X_train, y_train)"
   ]
  },
  {
   "cell_type": "code",
   "execution_count": 7,
   "metadata": {},
   "outputs": [
    {
     "name": "stdout",
     "output_type": "stream",
     "text": [
      "Wall time: 1e+03 µs\n"
     ]
    }
   ],
   "source": [
    "%time my_clf.fit(X_train, y_train)"
   ]
  },
  {
   "cell_type": "code",
   "execution_count": 8,
   "metadata": {},
   "outputs": [
    {
     "name": "stdout",
     "output_type": "stream",
     "text": [
      "Wall time: 1 ms\n"
     ]
    },
    {
     "data": {
      "text/plain": [
       "array([2, 0, 0, 1, 1, 2, 2, 0, 1, 2, 1, 0, 1, 0, 2])"
      ]
     },
     "execution_count": 8,
     "metadata": {},
     "output_type": "execute_result"
    }
   ],
   "source": [
    "%time clf.predict(X_test)"
   ]
  },
  {
   "cell_type": "code",
   "execution_count": 9,
   "metadata": {},
   "outputs": [
    {
     "name": "stdout",
     "output_type": "stream",
     "text": [
      "Wall time: 15 ms\n"
     ]
    },
    {
     "data": {
      "text/plain": [
       "array([2, 0, 0, 1, 1, 2, 2, 0, 1, 2, 1, 0, 1, 0, 2])"
      ]
     },
     "execution_count": 9,
     "metadata": {},
     "output_type": "execute_result"
    }
   ],
   "source": [
    "%time my_clf.predict(X_test)"
   ]
  },
  {
   "cell_type": "code",
   "execution_count": 10,
   "metadata": {},
   "outputs": [
    {
     "name": "stdout",
     "output_type": "stream",
     "text": [
      "Wall time: 1e+03 µs\n"
     ]
    },
    {
     "data": {
      "text/plain": [
       "array([[0., 0., 1.],\n",
       "       [1., 0., 0.],\n",
       "       [1., 0., 0.],\n",
       "       [0., 1., 0.],\n",
       "       [0., 1., 0.],\n",
       "       [0., 0., 1.],\n",
       "       [0., 0., 1.],\n",
       "       [1., 0., 0.],\n",
       "       [0., 1., 0.],\n",
       "       [0., 0., 1.],\n",
       "       [0., 1., 0.],\n",
       "       [1., 0., 0.],\n",
       "       [0., 1., 0.],\n",
       "       [1., 0., 0.],\n",
       "       [0., 0., 1.]])"
      ]
     },
     "execution_count": 10,
     "metadata": {},
     "output_type": "execute_result"
    }
   ],
   "source": [
    "%time clf.predict_proba(X_test)"
   ]
  },
  {
   "cell_type": "code",
   "execution_count": 11,
   "metadata": {},
   "outputs": [
    {
     "name": "stdout",
     "output_type": "stream",
     "text": [
      "Wall time: 0 ns\n"
     ]
    },
    {
     "data": {
      "text/plain": [
       "array([[0., 0., 1.],\n",
       "       [1., 0., 0.],\n",
       "       [1., 0., 0.],\n",
       "       [0., 1., 0.],\n",
       "       [0., 1., 0.],\n",
       "       [0., 0., 1.],\n",
       "       [0., 0., 1.],\n",
       "       [1., 0., 0.],\n",
       "       [0., 1., 0.],\n",
       "       [0., 0., 1.],\n",
       "       [0., 1., 0.],\n",
       "       [1., 0., 0.],\n",
       "       [0., 1., 0.],\n",
       "       [1., 0., 0.],\n",
       "       [0., 0., 1.]])"
      ]
     },
     "execution_count": 11,
     "metadata": {},
     "output_type": "execute_result"
    }
   ],
   "source": [
    "%time my_clf.predict_proba(X_test)"
   ]
  },
  {
   "cell_type": "code",
   "execution_count": 12,
   "metadata": {},
   "outputs": [
    {
     "data": {
      "text/plain": [
       "1.0"
      ]
     },
     "execution_count": 12,
     "metadata": {},
     "output_type": "execute_result"
    }
   ],
   "source": [
    "clf.score(X_test, y_test)"
   ]
  },
  {
   "cell_type": "code",
   "execution_count": 13,
   "metadata": {},
   "outputs": [
    {
     "data": {
      "text/plain": [
       "1.0"
      ]
     },
     "execution_count": 13,
     "metadata": {},
     "output_type": "execute_result"
    }
   ],
   "source": [
    "my_clf.score(X_test, y_test)"
   ]
  },
  {
   "cell_type": "markdown",
   "metadata": {},
   "source": [
    "Задание 3"
   ]
  },
  {
   "cell_type": "code",
   "execution_count": 14,
   "metadata": {},
   "outputs": [
    {
     "name": "stdout",
     "output_type": "stream",
     "text": [
      "Num of neighbours with best score is 9\n"
     ]
    },
    {
     "data": {
      "image/png": "[encoded data removed]",
      "text/plain": [
       "<Figure size 432x288 with 1 Axes>"
      ]
     },
     "metadata": {},
     "output_type": "display_data"
    }
   ],
   "source": [
    "#%%pycodestyle\n",
    "\n",
    "n_neighbors_test = range(1, 30)\n",
    "my_clf_predict_test = []\n",
    "iterations = 100\n",
    "for i in n_neighbors_test:\n",
    "    result = 0\n",
    "    for j in range(iterations):\n",
    "        X_train, X_test, \\\n",
    "        y_train, y_test = train_test_split(iris.data, iris.target,\n",
    "                                           test_size=0.1, stratify=iris.target)\n",
    "        my_clf = MyKNeighborsClassifier(n_neighbors=i)\n",
    "        my_clf.fit(X_train, y_train)\n",
    "        result += my_clf.score(X_test, y_test)\n",
    "    my_clf_predict_test.append(result / iterations)\n",
    "\n",
    "n_best_score = np.argmax(my_clf_predict_test) + 1\n",
    "print(\"Num of neighbours with best score is {}\".format(n_best_score))\n",
    "\n",
    "plt.plot(n_neighbors_test, my_clf_predict_test)\n",
    "plt.annotate('n_best_score', xy=(n_best_score,\n",
    "                                 my_clf_predict_test[n_best_score]),\n",
    "             xytext=(n_best_score, np.amin(my_clf_predict_test)),\n",
    "             arrowprops=dict(facecolor='black', shrink=0.1))\n",
    "plt.show()\n"
   ]
  },
  {
   "cell_type": "markdown",
   "metadata": {},
   "source": [
    "**MNIST**"
   ]
  },
  {
   "cell_type": "code",
   "execution_count": 15,
   "metadata": {},
   "outputs": [],
   "source": [
    "mnist = fetch_mldata('MNIST original')"
   ]
  },
  {
   "cell_type": "code",
   "execution_count": 16,
   "metadata": {},
   "outputs": [],
   "source": [
    "X_train, X_test, y_train, y_test = train_test_split(mnist.data, mnist.target, test_size=0.01, stratify=mnist.target)"
   ]
  },
  {
   "cell_type": "code",
   "execution_count": 17,
   "metadata": {},
   "outputs": [],
   "source": [
    "clf = KNeighborsClassifier(n_neighbors=2)\n",
    "my_clf = MyKNeighborsClassifier(n_neighbors=2)"
   ]
  },
  {
   "cell_type": "code",
   "execution_count": 18,
   "metadata": {},
   "outputs": [
    {
     "name": "stdout",
     "output_type": "stream",
     "text": [
      "Wall time: 39.2 s\n"
     ]
    },
    {
     "data": {
      "text/plain": [
       "KNeighborsClassifier(algorithm='auto', leaf_size=30, metric='minkowski',\n",
       "           metric_params=None, n_jobs=1, n_neighbors=2, p=2,\n",
       "           weights='uniform')"
      ]
     },
     "execution_count": 18,
     "metadata": {},
     "output_type": "execute_result"
    }
   ],
   "source": [
    "%time clf.fit(X_train, y_train)"
   ]
  },
  {
   "cell_type": "code",
   "execution_count": 19,
   "metadata": {},
   "outputs": [
    {
     "name": "stderr",
     "output_type": "stream",
     "text": [
      "C:\\Python\\Anaconda3\\lib\\site-packages\\sklearn\\utils\\validation.py:475: DataConversionWarning: Data with input dtype uint8 was converted to float64 by StandardScaler.\n",
      "  warnings.warn(msg, DataConversionWarning)\n",
      "C:\\Python\\Anaconda3\\lib\\site-packages\\sklearn\\utils\\validation.py:475: DataConversionWarning: Data with input dtype uint8 was converted to float64 by StandardScaler.\n",
      "  warnings.warn(msg, DataConversionWarning)\n"
     ]
    },
    {
     "name": "stdout",
     "output_type": "stream",
     "text": [
      "Wall time: 1.43 s\n"
     ]
    }
   ],
   "source": [
    "%time my_clf.fit(X_train, y_train)"
   ]
  },
  {
   "cell_type": "code",
   "execution_count": 20,
   "metadata": {},
   "outputs": [
    {
     "name": "stdout",
     "output_type": "stream",
     "text": [
      "Wall time: 54.1 s\n"
     ]
    },
    {
     "data": {
      "text/plain": [
       "array([4., 9., 3., 7., 2., 1., 4., 1., 0., 7., 2., 6., 5., 3., 3., 7., 9.,\n",
       "       1., 6., 2., 8., 0., 9., 0., 1., 7., 0., 1., 7., 3., 3., 2., 1., 8.,\n",
       "       9., 1., 1., 5., 1., 9., 9., 1., 0., 2., 1., 0., 0., 8., 5., 3., 8.,\n",
       "       1., 4., 1., 5., 6., 9., 8., 8., 2., 2., 0., 4., 3., 0., 0., 6., 2.,\n",
       "       9., 1., 3., 7., 1., 3., 0., 7., 5., 3., 7., 0., 5., 6., 4., 5., 7.,\n",
       "       7., 0., 3., 7., 7., 7., 0., 7., 8., 7., 3., 4., 9., 5., 1., 9., 2.,\n",
       "       5., 3., 4., 0., 1., 9., 0., 5., 4., 8., 2., 6., 8., 3., 5., 7., 6.,\n",
       "       2., 1., 6., 1., 8., 5., 7., 4., 7., 8., 3., 3., 9., 9., 3., 1., 6.,\n",
       "       3., 2., 8., 5., 9., 0., 4., 4., 4., 8., 1., 6., 9., 1., 6., 1., 7.,\n",
       "       5., 9., 7., 5., 7., 8., 1., 3., 7., 8., 3., 9., 9., 5., 7., 0., 9.,\n",
       "       1., 6., 2., 9., 5., 1., 8., 8., 6., 1., 3., 5., 6., 4., 3., 5., 6.,\n",
       "       6., 0., 1., 7., 3., 3., 9., 1., 8., 2., 2., 5., 1., 7., 6., 9., 9.,\n",
       "       5., 9., 9., 6., 4., 4., 7., 5., 7., 3., 0., 1., 1., 1., 0., 1., 5.,\n",
       "       6., 0., 2., 1., 5., 6., 0., 7., 4., 7., 6., 3., 1., 0., 6., 0., 6.,\n",
       "       0., 2., 2., 8., 9., 3., 6., 3., 6., 9., 7., 9., 1., 6., 2., 6., 7.,\n",
       "       6., 7., 0., 3., 7., 5., 6., 6., 2., 7., 4., 0., 2., 5., 4., 0., 2.,\n",
       "       3., 3., 8., 1., 2., 0., 6., 8., 7., 5., 1., 2., 2., 8., 6., 7., 0.,\n",
       "       5., 1., 8., 1., 0., 7., 2., 4., 5., 9., 2., 8., 7., 3., 5., 3., 2.,\n",
       "       4., 8., 2., 3., 9., 8., 0., 0., 9., 8., 5., 3., 1., 8., 9., 3., 6.,\n",
       "       6., 9., 8., 2., 8., 5., 4., 1., 8., 1., 0., 7., 0., 4., 1., 4., 8.,\n",
       "       8., 8., 0., 8., 2., 7., 3., 1., 6., 3., 4., 9., 9., 4., 3., 8., 1.,\n",
       "       4., 0., 8., 6., 6., 2., 1., 6., 3., 2., 4., 5., 7., 9., 9., 3., 4.,\n",
       "       8., 7., 6., 4., 8., 7., 5., 3., 9., 4., 4., 9., 2., 6., 5., 8., 9.,\n",
       "       0., 2., 3., 2., 5., 5., 3., 4., 8., 9., 9., 3., 6., 2., 6., 6., 7.,\n",
       "       5., 3., 8., 1., 9., 9., 5., 0., 1., 0., 4., 2., 4., 2., 6., 4., 9.,\n",
       "       5., 1., 8., 3., 3., 4., 5., 3., 4., 8., 9., 1., 6., 2., 3., 7., 4.,\n",
       "       1., 8., 1., 3., 2., 7., 6., 6., 8., 5., 5., 4., 7., 6., 4., 4., 1.,\n",
       "       2., 9., 7., 3., 5., 5., 1., 8., 1., 1., 1., 4., 9., 8., 1., 2., 2.,\n",
       "       8., 2., 9., 4., 7., 7., 4., 0., 3., 9., 9., 1., 3., 2., 0., 2., 8.,\n",
       "       4., 6., 8., 1., 0., 0., 2., 0., 4., 3., 7., 9., 5., 1., 2., 3., 4.,\n",
       "       0., 2., 6., 7., 0., 3., 7., 1., 0., 8., 8., 0., 6., 4., 6., 1., 4.,\n",
       "       3., 7., 6., 5., 9., 2., 6., 6., 0., 9., 9., 2., 0., 8., 7., 5., 2.,\n",
       "       7., 7., 0., 6., 0., 1., 4., 7., 1., 3., 4., 8., 7., 6., 1., 6., 8.,\n",
       "       5., 2., 7., 4., 5., 2., 0., 0., 6., 1., 4., 3., 9., 8., 6., 8., 5.,\n",
       "       1., 3., 7., 7., 1., 7., 8., 7., 0., 3., 4., 1., 2., 9., 5., 2., 9.,\n",
       "       0., 6., 3., 3., 5., 1., 9., 5., 8., 9., 3., 0., 0., 8., 0., 1., 3.,\n",
       "       0., 3., 2., 4., 0., 2., 3., 2., 4., 9., 4., 5., 7., 3., 8., 9., 1.,\n",
       "       2., 0., 2., 1., 4., 6., 7., 9., 1., 4., 9., 0., 7., 5., 2., 4., 7.,\n",
       "       2., 3., 9., 2., 7., 2., 0., 0., 4., 1., 2., 6., 8., 3., 2., 5., 4.,\n",
       "       4., 5., 4., 1., 6., 0., 7., 8., 0., 7., 5., 7., 2., 4., 5., 7., 7.,\n",
       "       4., 6., 1., 5., 5., 6., 1., 1., 3., 0., 3., 8., 0., 1., 2., 0., 4.,\n",
       "       3., 3., 4.])"
      ]
     },
     "execution_count": 20,
     "metadata": {},
     "output_type": "execute_result"
    }
   ],
   "source": [
    "%time clf.predict(X_test)"
   ]
  },
  {
   "cell_type": "code",
   "execution_count": 21,
   "metadata": {
    "scrolled": false
   },
   "outputs": [
    {
     "name": "stderr",
     "output_type": "stream",
     "text": [
      "C:\\Python\\Anaconda3\\lib\\site-packages\\sklearn\\utils\\validation.py:475: DataConversionWarning: Data with input dtype uint8 was converted to float64 by StandardScaler.\n",
      "  warnings.warn(msg, DataConversionWarning)\n",
      "C:\\Python\\Anaconda3\\lib\\site-packages\\sklearn\\utils\\validation.py:475: DataConversionWarning: Data with input dtype uint8 was converted to float64 by StandardScaler.\n",
      "  warnings.warn(msg, DataConversionWarning)\n"
     ]
    },
    {
     "name": "stdout",
     "output_type": "stream",
     "text": [
      "Wall time: 5.22 s\n"
     ]
    },
    {
     "data": {
      "text/plain": [
       "array([4, 9, 3, 7, 2, 1, 4, 1, 0, 7, 2, 6, 5, 3, 3, 7, 9, 1, 6, 2, 8, 0,\n",
       "       9, 0, 1, 7, 0, 1, 7, 3, 3, 2, 1, 0, 9, 1, 1, 5, 1, 9, 9, 1, 0, 2,\n",
       "       1, 0, 0, 8, 5, 3, 8, 1, 4, 1, 3, 6, 9, 8, 8, 2, 0, 0, 4, 2, 0, 0,\n",
       "       6, 2, 9, 1, 3, 7, 1, 3, 0, 7, 5, 2, 7, 0, 5, 6, 4, 5, 7, 7, 0, 3,\n",
       "       7, 7, 7, 0, 7, 8, 7, 3, 4, 4, 5, 1, 9, 2, 5, 3, 9, 0, 1, 9, 0, 5,\n",
       "       4, 8, 2, 2, 8, 3, 5, 7, 6, 2, 1, 6, 1, 8, 5, 7, 4, 7, 8, 3, 3, 9,\n",
       "       9, 3, 1, 6, 3, 2, 8, 5, 9, 0, 4, 4, 4, 8, 1, 6, 9, 1, 6, 1, 7, 5,\n",
       "       9, 7, 5, 7, 8, 1, 3, 9, 8, 3, 9, 9, 5, 7, 4, 7, 1, 6, 2, 9, 5, 1,\n",
       "       8, 5, 6, 1, 2, 5, 6, 4, 3, 5, 6, 6, 0, 1, 7, 3, 3, 9, 1, 8, 2, 2,\n",
       "       5, 1, 7, 6, 7, 9, 5, 9, 9, 6, 4, 4, 7, 5, 7, 3, 0, 1, 1, 1, 0, 1,\n",
       "       5, 6, 0, 2, 1, 5, 6, 0, 7, 4, 7, 6, 3, 1, 0, 6, 0, 6, 0, 2, 2, 8,\n",
       "       9, 3, 6, 3, 6, 9, 9, 9, 2, 6, 2, 6, 7, 6, 7, 0, 3, 7, 5, 6, 6, 2,\n",
       "       7, 4, 0, 2, 5, 4, 0, 2, 3, 3, 8, 1, 2, 0, 6, 8, 7, 5, 1, 2, 2, 8,\n",
       "       6, 7, 0, 5, 1, 5, 1, 0, 7, 2, 4, 3, 9, 2, 8, 7, 3, 5, 3, 2, 4, 8,\n",
       "       2, 5, 9, 8, 0, 0, 9, 8, 5, 3, 1, 8, 9, 3, 6, 0, 9, 8, 2, 8, 5, 4,\n",
       "       1, 8, 1, 0, 7, 0, 4, 1, 4, 8, 8, 8, 0, 8, 2, 7, 3, 1, 6, 3, 4, 9,\n",
       "       9, 4, 3, 8, 1, 4, 0, 8, 6, 6, 2, 1, 6, 3, 2, 2, 5, 7, 9, 9, 3, 4,\n",
       "       8, 7, 6, 4, 8, 7, 5, 3, 9, 4, 4, 9, 2, 6, 5, 8, 9, 0, 2, 3, 2, 5,\n",
       "       5, 3, 4, 8, 9, 9, 3, 6, 2, 0, 6, 7, 5, 3, 5, 1, 9, 9, 5, 0, 7, 0,\n",
       "       4, 2, 4, 2, 6, 4, 9, 5, 1, 8, 3, 3, 4, 5, 3, 4, 8, 9, 1, 6, 2, 3,\n",
       "       7, 4, 1, 8, 1, 3, 2, 7, 6, 6, 8, 5, 0, 4, 7, 6, 4, 4, 1, 2, 9, 7,\n",
       "       3, 5, 5, 1, 8, 1, 1, 1, 4, 9, 8, 1, 2, 2, 8, 2, 9, 4, 7, 7, 4, 0,\n",
       "       3, 9, 9, 1, 3, 2, 0, 2, 8, 9, 6, 8, 1, 0, 0, 6, 0, 4, 3, 7, 9, 5,\n",
       "       1, 2, 3, 4, 0, 2, 6, 7, 0, 3, 7, 1, 0, 8, 8, 0, 6, 4, 6, 1, 4, 3,\n",
       "       7, 6, 5, 9, 2, 6, 6, 0, 9, 9, 2, 0, 8, 7, 5, 2, 7, 7, 0, 6, 0, 1,\n",
       "       4, 7, 1, 3, 4, 8, 7, 6, 1, 6, 8, 5, 2, 7, 4, 5, 2, 0, 0, 6, 1, 4,\n",
       "       3, 9, 8, 6, 8, 5, 1, 3, 7, 7, 1, 7, 8, 7, 0, 3, 4, 1, 2, 9, 5, 2,\n",
       "       9, 0, 6, 3, 3, 5, 1, 9, 5, 8, 9, 0, 0, 0, 8, 0, 1, 3, 0, 3, 2, 4,\n",
       "       0, 2, 3, 2, 4, 9, 4, 5, 7, 3, 8, 7, 1, 2, 0, 2, 1, 4, 6, 7, 9, 1,\n",
       "       4, 7, 0, 7, 5, 2, 4, 7, 2, 3, 9, 2, 7, 2, 0, 0, 4, 1, 2, 6, 8, 3,\n",
       "       2, 5, 4, 4, 5, 4, 1, 6, 0, 7, 8, 0, 7, 5, 7, 2, 4, 5, 9, 7, 4, 6,\n",
       "       1, 5, 5, 6, 1, 1, 3, 0, 3, 8, 0, 1, 2, 0, 4, 3, 3, 4])"
      ]
     },
     "execution_count": 21,
     "metadata": {},
     "output_type": "execute_result"
    }
   ],
   "source": [
    "%time my_clf.predict(X_test)"
   ]
  },
  {
   "cell_type": "code",
   "execution_count": 22,
   "metadata": {},
   "outputs": [
    {
     "name": "stdout",
     "output_type": "stream",
     "text": [
      "Wall time: 54 s\n"
     ]
    },
    {
     "data": {
      "text/plain": [
       "array([[0., 0., 0., ..., 0., 0., 0.],\n",
       "       [0., 0., 0., ..., 0., 0., 1.],\n",
       "       [0., 0., 0., ..., 0., 0., 0.],\n",
       "       ...,\n",
       "       [0., 0., 0., ..., 0., 0., 0.],\n",
       "       [0., 0., 0., ..., 0., 0., 0.],\n",
       "       [0., 0., 0., ..., 0., 0., 0.]])"
      ]
     },
     "execution_count": 22,
     "metadata": {},
     "output_type": "execute_result"
    }
   ],
   "source": [
    "%time clf.predict_proba(X_test)"
   ]
  },
  {
   "cell_type": "code",
   "execution_count": 23,
   "metadata": {},
   "outputs": [
    {
     "name": "stderr",
     "output_type": "stream",
     "text": [
      "C:\\Python\\Anaconda3\\lib\\site-packages\\sklearn\\utils\\validation.py:475: DataConversionWarning: Data with input dtype uint8 was converted to float64 by StandardScaler.\n",
      "  warnings.warn(msg, DataConversionWarning)\n",
      "C:\\Python\\Anaconda3\\lib\\site-packages\\sklearn\\utils\\validation.py:475: DataConversionWarning: Data with input dtype uint8 was converted to float64 by StandardScaler.\n",
      "  warnings.warn(msg, DataConversionWarning)\n"
     ]
    },
    {
     "name": "stdout",
     "output_type": "stream",
     "text": [
      "Wall time: 4.74 s\n"
     ]
    },
    {
     "data": {
      "text/plain": [
       "array([[0., 0., 0., ..., 0., 0., 0.],\n",
       "       [0., 0., 0., ..., 0., 0., 1.],\n",
       "       [0., 0., 0., ..., 0., 0., 0.],\n",
       "       ...,\n",
       "       [0., 0., 0., ..., 0., 0., 0.],\n",
       "       [0., 0., 0., ..., 0., 0., 0.],\n",
       "       [0., 0., 0., ..., 0., 0., 0.]])"
      ]
     },
     "execution_count": 23,
     "metadata": {},
     "output_type": "execute_result"
    }
   ],
   "source": [
    "%time my_clf.predict_proba(X_test)"
   ]
  },
  {
   "cell_type": "code",
   "execution_count": 24,
   "metadata": {},
   "outputs": [
    {
     "data": {
      "text/plain": [
       "0.9714285714285714"
      ]
     },
     "execution_count": 24,
     "metadata": {},
     "output_type": "execute_result"
    }
   ],
   "source": [
    "clf.score(X_test, y_test)"
   ]
  },
  {
   "cell_type": "code",
   "execution_count": 25,
   "metadata": {},
   "outputs": [
    {
     "name": "stderr",
     "output_type": "stream",
     "text": [
      "C:\\Python\\Anaconda3\\lib\\site-packages\\sklearn\\utils\\validation.py:475: DataConversionWarning: Data with input dtype uint8 was converted to float64 by StandardScaler.\n",
      "  warnings.warn(msg, DataConversionWarning)\n",
      "C:\\Python\\Anaconda3\\lib\\site-packages\\sklearn\\utils\\validation.py:475: DataConversionWarning: Data with input dtype uint8 was converted to float64 by StandardScaler.\n",
      "  warnings.warn(msg, DataConversionWarning)\n"
     ]
    },
    {
     "data": {
      "text/plain": [
       "0.9414285714285714"
      ]
     },
     "execution_count": 25,
     "metadata": {},
     "output_type": "execute_result"
    }
   ],
   "source": [
    "my_clf.score(X_test, y_test)"
   ]
  },
  {
   "cell_type": "markdown",
   "metadata": {},
   "source": [
    "Задание 4"
   ]
  },
  {
   "cell_type": "code",
   "execution_count": 26,
   "metadata": {},
   "outputs": [],
   "source": [
    "clf = KNeighborsClassifier(n_neighbors=n_best_score, algorithm='kd_tree')\n",
    "my_clf = MyKNeighborsClassifier(n_neighbors=n_best_score, algorithm='kd_tree')"
   ]
  },
  {
   "cell_type": "code",
   "execution_count": 27,
   "metadata": {},
   "outputs": [],
   "source": [
    "X_train, X_test, y_train, y_test = train_test_split(mnist.data, mnist.target, test_size=0.01, stratify=mnist.target)"
   ]
  },
  {
   "cell_type": "code",
   "execution_count": 28,
   "metadata": {},
   "outputs": [
    {
     "name": "stdout",
     "output_type": "stream",
     "text": [
      "Wall time: 39.1 s\n"
     ]
    },
    {
     "data": {
      "text/plain": [
       "KNeighborsClassifier(algorithm='kd_tree', leaf_size=30, metric='minkowski',\n",
       "           metric_params=None, n_jobs=1, n_neighbors=9, p=2,\n",
       "           weights='uniform')"
      ]
     },
     "execution_count": 28,
     "metadata": {},
     "output_type": "execute_result"
    }
   ],
   "source": [
    "%time clf.fit(X_train, y_train)"
   ]
  },
  {
   "cell_type": "code",
   "execution_count": 29,
   "metadata": {},
   "outputs": [
    {
     "name": "stderr",
     "output_type": "stream",
     "text": [
      "C:\\Python\\Anaconda3\\lib\\site-packages\\sklearn\\utils\\validation.py:475: DataConversionWarning: Data with input dtype uint8 was converted to float64 by StandardScaler.\n",
      "  warnings.warn(msg, DataConversionWarning)\n",
      "C:\\Python\\Anaconda3\\lib\\site-packages\\sklearn\\utils\\validation.py:475: DataConversionWarning: Data with input dtype uint8 was converted to float64 by StandardScaler.\n",
      "  warnings.warn(msg, DataConversionWarning)\n"
     ]
    },
    {
     "name": "stdout",
     "output_type": "stream",
     "text": [
      "Wall time: 41 s\n"
     ]
    }
   ],
   "source": [
    "%time my_clf.fit(X_train, y_train)"
   ]
  },
  {
   "cell_type": "code",
   "execution_count": 30,
   "metadata": {},
   "outputs": [
    {
     "name": "stdout",
     "output_type": "stream",
     "text": [
      "Wall time: 54.2 s\n"
     ]
    },
    {
     "data": {
      "text/plain": [
       "array([2., 6., 1., 1., 6., 6., 0., 1., 7., 5., 1., 7., 0., 4., 2., 1., 1.,\n",
       "       8., 6., 4., 1., 9., 9., 3., 8., 0., 3., 3., 0., 7., 3., 8., 2., 6.,\n",
       "       5., 0., 5., 7., 1., 1., 3., 5., 5., 3., 6., 6., 5., 7., 7., 9., 3.,\n",
       "       9., 1., 2., 7., 6., 1., 9., 3., 1., 2., 0., 1., 5., 1., 1., 9., 6.,\n",
       "       0., 2., 5., 3., 1., 9., 6., 6., 5., 7., 7., 4., 2., 7., 4., 0., 5.,\n",
       "       1., 5., 7., 6., 7., 5., 6., 2., 5., 1., 2., 7., 4., 5., 8., 0., 5.,\n",
       "       8., 7., 9., 1., 9., 3., 1., 5., 5., 0., 7., 1., 9., 4., 0., 1., 4.,\n",
       "       0., 5., 4., 1., 3., 3., 7., 9., 2., 1., 4., 7., 3., 0., 7., 9., 4.,\n",
       "       4., 9., 4., 3., 7., 9., 9., 7., 8., 3., 9., 8., 6., 4., 8., 3., 2.,\n",
       "       7., 2., 8., 8., 6., 1., 3., 1., 5., 8., 0., 4., 2., 5., 3., 3., 3.,\n",
       "       2., 7., 3., 3., 9., 8., 8., 9., 0., 2., 6., 8., 7., 0., 9., 2., 6.,\n",
       "       0., 1., 1., 0., 0., 3., 9., 6., 2., 8., 1., 3., 4., 8., 2., 6., 2.,\n",
       "       9., 7., 7., 1., 4., 8., 4., 2., 7., 1., 7., 3., 9., 0., 0., 8., 3.,\n",
       "       3., 1., 1., 0., 7., 4., 2., 6., 9., 0., 2., 9., 1., 5., 2., 6., 6.,\n",
       "       3., 3., 8., 7., 7., 8., 4., 9., 2., 9., 4., 1., 5., 9., 3., 7., 4.,\n",
       "       2., 9., 2., 6., 5., 0., 5., 6., 7., 0., 6., 3., 5., 1., 5., 3., 7.,\n",
       "       2., 7., 5., 1., 0., 1., 8., 6., 7., 8., 4., 9., 4., 8., 1., 0., 8.,\n",
       "       0., 1., 0., 7., 7., 3., 9., 8., 6., 6., 9., 4., 4., 7., 2., 7., 5.,\n",
       "       1., 2., 1., 1., 0., 6., 6., 1., 5., 0., 2., 3., 9., 4., 4., 8., 9.,\n",
       "       3., 4., 0., 3., 7., 6., 0., 1., 9., 8., 0., 4., 3., 6., 2., 6., 8.,\n",
       "       8., 4., 9., 5., 1., 8., 3., 9., 8., 6., 3., 2., 1., 1., 3., 0., 3.,\n",
       "       4., 8., 0., 8., 2., 4., 4., 8., 6., 6., 1., 3., 8., 8., 1., 4., 0.,\n",
       "       9., 3., 0., 9., 9., 2., 7., 0., 7., 0., 0., 4., 3., 6., 8., 5., 7.,\n",
       "       4., 3., 9., 0., 5., 7., 8., 5., 6., 7., 9., 6., 3., 3., 2., 4., 1.,\n",
       "       8., 0., 6., 1., 3., 6., 4., 6., 9., 7., 8., 2., 6., 0., 0., 5., 1.,\n",
       "       0., 2., 5., 4., 1., 1., 2., 0., 6., 8., 5., 4., 0., 7., 2., 3., 3.,\n",
       "       7., 3., 5., 1., 6., 0., 5., 9., 4., 1., 0., 5., 0., 2., 4., 7., 2.,\n",
       "       6., 4., 8., 7., 4., 3., 9., 7., 3., 3., 2., 8., 9., 4., 6., 8., 1.,\n",
       "       5., 3., 0., 0., 1., 4., 0., 9., 2., 3., 5., 8., 6., 7., 9., 7., 7.,\n",
       "       7., 3., 9., 2., 2., 7., 9., 5., 1., 8., 7., 2., 5., 9., 0., 1., 8.,\n",
       "       3., 6., 8., 7., 5., 2., 4., 3., 9., 6., 1., 2., 0., 4., 7., 8., 9.,\n",
       "       4., 4., 5., 6., 3., 9., 2., 8., 6., 3., 6., 4., 1., 1., 4., 0., 5.,\n",
       "       6., 9., 7., 6., 8., 9., 8., 7., 9., 5., 3., 0., 0., 1., 9., 8., 9.,\n",
       "       0., 5., 2., 5., 9., 4., 3., 9., 1., 4., 8., 3., 5., 0., 6., 9., 9.,\n",
       "       2., 8., 5., 8., 4., 8., 4., 4., 6., 7., 0., 6., 0., 7., 3., 1., 5.,\n",
       "       1., 2., 6., 6., 1., 3., 0., 2., 6., 8., 9., 0., 4., 4., 0., 6., 2.,\n",
       "       6., 3., 7., 6., 7., 8., 7., 1., 5., 7., 5., 2., 1., 5., 0., 2., 1.,\n",
       "       4., 1., 1., 9., 6., 7., 1., 4., 0., 7., 2., 3., 1., 8., 1., 2., 7.,\n",
       "       0., 9., 4., 1., 3., 3., 3., 1., 4., 6., 5., 9., 6., 1., 3., 1., 1.,\n",
       "       3., 8., 4., 4., 5., 7., 4., 8., 9., 9., 3., 2., 2., 6., 2., 9., 7.,\n",
       "       0., 9., 5., 5., 5., 1., 4., 5., 2., 8., 0., 7., 8., 6., 2., 6., 4.,\n",
       "       9., 1., 6.])"
      ]
     },
     "execution_count": 30,
     "metadata": {},
     "output_type": "execute_result"
    }
   ],
   "source": [
    "%time clf.predict(X_test)"
   ]
  },
  {
   "cell_type": "code",
   "execution_count": 31,
   "metadata": {},
   "outputs": [
    {
     "name": "stderr",
     "output_type": "stream",
     "text": [
      "C:\\Python\\Anaconda3\\lib\\site-packages\\sklearn\\utils\\validation.py:475: DataConversionWarning: Data with input dtype uint8 was converted to float64 by StandardScaler.\n",
      "  warnings.warn(msg, DataConversionWarning)\n",
      "C:\\Python\\Anaconda3\\lib\\site-packages\\sklearn\\utils\\validation.py:475: DataConversionWarning: Data with input dtype uint8 was converted to float64 by StandardScaler.\n",
      "  warnings.warn(msg, DataConversionWarning)\n"
     ]
    },
    {
     "name": "stdout",
     "output_type": "stream",
     "text": [
      "Wall time: 1min 3s\n"
     ]
    },
    {
     "data": {
      "text/plain": [
       "array([2, 6, 1, 1, 6, 6, 0, 1, 8, 5, 1, 7, 0, 4, 2, 1, 1, 5, 6, 9, 1, 9,\n",
       "       9, 3, 8, 0, 3, 3, 0, 7, 3, 8, 2, 6, 5, 0, 5, 7, 1, 1, 3, 5, 5, 3,\n",
       "       6, 6, 5, 7, 7, 9, 3, 9, 1, 2, 7, 6, 1, 9, 3, 1, 2, 0, 1, 5, 1, 1,\n",
       "       9, 6, 0, 2, 5, 3, 1, 9, 6, 6, 5, 7, 7, 4, 2, 7, 4, 6, 5, 2, 5, 7,\n",
       "       6, 7, 3, 6, 2, 5, 1, 2, 7, 4, 5, 8, 0, 5, 8, 7, 9, 1, 9, 3, 6, 5,\n",
       "       5, 0, 7, 1, 9, 4, 0, 1, 4, 0, 5, 4, 1, 3, 3, 7, 2, 2, 1, 4, 7, 3,\n",
       "       0, 7, 9, 4, 4, 9, 4, 3, 7, 9, 9, 7, 8, 3, 9, 8, 6, 4, 8, 3, 6, 7,\n",
       "       2, 8, 8, 6, 1, 3, 1, 5, 8, 0, 4, 2, 5, 3, 3, 3, 2, 7, 3, 3, 7, 8,\n",
       "       8, 9, 0, 2, 6, 8, 7, 0, 9, 2, 2, 0, 1, 1, 2, 0, 3, 4, 6, 2, 8, 1,\n",
       "       3, 9, 8, 2, 6, 2, 9, 7, 7, 1, 4, 8, 4, 2, 7, 1, 7, 3, 9, 0, 0, 8,\n",
       "       3, 3, 1, 1, 0, 7, 4, 2, 6, 9, 0, 2, 9, 1, 5, 2, 6, 6, 3, 3, 8, 7,\n",
       "       7, 8, 5, 9, 2, 9, 4, 1, 9, 9, 3, 7, 4, 2, 9, 2, 6, 5, 0, 5, 6, 7,\n",
       "       0, 6, 3, 5, 1, 5, 3, 7, 2, 7, 5, 1, 0, 1, 8, 6, 7, 8, 9, 9, 4, 8,\n",
       "       1, 0, 8, 0, 2, 0, 7, 7, 3, 9, 8, 6, 6, 9, 4, 4, 7, 2, 7, 5, 1, 2,\n",
       "       1, 1, 0, 6, 6, 1, 5, 0, 2, 3, 9, 4, 4, 8, 9, 3, 4, 0, 3, 7, 6, 0,\n",
       "       1, 9, 8, 0, 0, 3, 6, 2, 6, 8, 8, 4, 9, 5, 1, 8, 3, 9, 8, 6, 3, 2,\n",
       "       1, 1, 3, 0, 3, 4, 8, 0, 8, 2, 4, 4, 8, 6, 6, 1, 5, 8, 8, 1, 4, 0,\n",
       "       8, 3, 0, 9, 9, 2, 7, 0, 7, 0, 0, 4, 3, 6, 8, 5, 7, 4, 3, 9, 0, 5,\n",
       "       7, 8, 5, 6, 7, 9, 6, 3, 3, 2, 4, 1, 8, 0, 6, 1, 3, 6, 4, 6, 9, 7,\n",
       "       8, 2, 6, 0, 0, 5, 1, 0, 2, 5, 4, 1, 1, 2, 0, 6, 8, 5, 4, 0, 7, 2,\n",
       "       3, 3, 7, 3, 5, 1, 6, 0, 5, 9, 4, 1, 0, 5, 0, 2, 4, 7, 2, 6, 4, 1,\n",
       "       7, 4, 3, 9, 7, 3, 3, 2, 8, 9, 4, 6, 8, 1, 5, 3, 0, 0, 1, 4, 0, 7,\n",
       "       2, 3, 5, 8, 6, 7, 9, 7, 7, 7, 3, 9, 2, 2, 7, 9, 5, 1, 8, 7, 2, 5,\n",
       "       9, 0, 1, 8, 3, 6, 8, 7, 5, 2, 4, 3, 9, 6, 1, 2, 0, 4, 7, 8, 9, 4,\n",
       "       4, 5, 6, 3, 9, 2, 8, 6, 3, 6, 4, 1, 1, 4, 0, 5, 6, 9, 7, 6, 8, 9,\n",
       "       8, 7, 9, 5, 5, 0, 0, 1, 9, 8, 9, 0, 5, 2, 5, 9, 4, 3, 9, 1, 4, 8,\n",
       "       3, 5, 0, 6, 9, 7, 2, 8, 5, 8, 4, 8, 4, 4, 6, 7, 0, 6, 0, 8, 3, 1,\n",
       "       3, 1, 2, 6, 6, 1, 3, 0, 2, 6, 8, 9, 0, 4, 4, 0, 6, 2, 6, 3, 7, 6,\n",
       "       7, 8, 7, 1, 5, 7, 5, 2, 1, 5, 0, 2, 1, 4, 1, 1, 9, 6, 7, 1, 4, 0,\n",
       "       7, 2, 8, 1, 8, 1, 2, 7, 0, 9, 4, 1, 2, 3, 3, 1, 4, 6, 3, 9, 6, 1,\n",
       "       3, 1, 1, 3, 8, 4, 9, 5, 7, 4, 8, 9, 4, 3, 2, 2, 6, 2, 9, 7, 0, 9,\n",
       "       5, 5, 5, 1, 4, 5, 2, 8, 0, 7, 8, 5, 2, 6, 4, 9, 1, 6])"
      ]
     },
     "execution_count": 31,
     "metadata": {},
     "output_type": "execute_result"
    }
   ],
   "source": [
    "%time my_clf.predict(X_test)"
   ]
  },
  {
   "cell_type": "code",
   "execution_count": 32,
   "metadata": {},
   "outputs": [
    {
     "name": "stdout",
     "output_type": "stream",
     "text": [
      "Wall time: 53.8 s\n"
     ]
    },
    {
     "data": {
      "text/plain": [
       "array([[0.        , 0.        , 1.        , ..., 0.        , 0.        ,\n",
       "        0.        ],\n",
       "       [0.        , 0.        , 0.        , ..., 0.        , 0.        ,\n",
       "        0.        ],\n",
       "       [0.        , 1.        , 0.        , ..., 0.        , 0.        ,\n",
       "        0.        ],\n",
       "       ...,\n",
       "       [0.        , 0.        , 0.        , ..., 0.        , 0.        ,\n",
       "        0.66666667],\n",
       "       [0.        , 1.        , 0.        , ..., 0.        , 0.        ,\n",
       "        0.        ],\n",
       "       [0.        , 0.        , 0.        , ..., 0.        , 0.        ,\n",
       "        0.        ]])"
      ]
     },
     "execution_count": 32,
     "metadata": {},
     "output_type": "execute_result"
    }
   ],
   "source": [
    "%time clf.predict_proba(X_test)"
   ]
  },
  {
   "cell_type": "code",
   "execution_count": 33,
   "metadata": {},
   "outputs": [
    {
     "name": "stderr",
     "output_type": "stream",
     "text": [
      "C:\\Python\\Anaconda3\\lib\\site-packages\\sklearn\\utils\\validation.py:475: DataConversionWarning: Data with input dtype uint8 was converted to float64 by StandardScaler.\n",
      "  warnings.warn(msg, DataConversionWarning)\n",
      "C:\\Python\\Anaconda3\\lib\\site-packages\\sklearn\\utils\\validation.py:475: DataConversionWarning: Data with input dtype uint8 was converted to float64 by StandardScaler.\n",
      "  warnings.warn(msg, DataConversionWarning)\n"
     ]
    },
    {
     "name": "stdout",
     "output_type": "stream",
     "text": [
      "Wall time: 1min 3s\n"
     ]
    },
    {
     "data": {
      "text/plain": [
       "array([[0.        , 0.        , 1.        , ..., 0.        , 0.        ,\n",
       "        0.        ],\n",
       "       [0.        , 0.        , 0.        , ..., 0.        , 0.        ,\n",
       "        0.        ],\n",
       "       [0.        , 1.        , 0.        , ..., 0.        , 0.        ,\n",
       "        0.        ],\n",
       "       ...,\n",
       "       [0.        , 0.        , 0.        , ..., 0.        , 0.        ,\n",
       "        0.55555556],\n",
       "       [0.        , 0.88888889, 0.11111111, ..., 0.        , 0.        ,\n",
       "        0.        ],\n",
       "       [0.        , 0.        , 0.        , ..., 0.        , 0.        ,\n",
       "        0.        ]])"
      ]
     },
     "execution_count": 33,
     "metadata": {},
     "output_type": "execute_result"
    }
   ],
   "source": [
    "%time my_clf.predict_proba(X_test)"
   ]
  },
  {
   "cell_type": "code",
   "execution_count": 34,
   "metadata": {},
   "outputs": [
    {
     "data": {
      "text/plain": [
       "0.9714285714285714"
      ]
     },
     "execution_count": 34,
     "metadata": {},
     "output_type": "execute_result"
    }
   ],
   "source": [
    "clf.score(X_test, y_test)"
   ]
  },
  {
   "cell_type": "code",
   "execution_count": 35,
   "metadata": {},
   "outputs": [
    {
     "name": "stderr",
     "output_type": "stream",
     "text": [
      "C:\\Python\\Anaconda3\\lib\\site-packages\\sklearn\\utils\\validation.py:475: DataConversionWarning: Data with input dtype uint8 was converted to float64 by StandardScaler.\n",
      "  warnings.warn(msg, DataConversionWarning)\n",
      "C:\\Python\\Anaconda3\\lib\\site-packages\\sklearn\\utils\\validation.py:475: DataConversionWarning: Data with input dtype uint8 was converted to float64 by StandardScaler.\n",
      "  warnings.warn(msg, DataConversionWarning)\n"
     ]
    },
    {
     "data": {
      "text/plain": [
       "0.9485714285714286"
      ]
     },
     "execution_count": 35,
     "metadata": {},
     "output_type": "execute_result"
    }
   ],
   "source": [
    "my_clf.score(X_test, y_test)"
   ]
  },
  {
   "cell_type": "markdown",
   "metadata": {},
   "source": [
    "Задание 5"
   ]
  },
  {
   "cell_type": "code",
   "execution_count": 36,
   "metadata": {},
   "outputs": [
    {
     "data": {
      "text/plain": [
       "'\\nФиттинг модели по массиву данных X и вектору значений y\\n'"
      ]
     },
     "execution_count": 36,
     "metadata": {},
     "output_type": "execute_result"
    }
   ],
   "source": [
    "# seaborn\n",
    "'''\n",
    "высокоуровневый интерфейс для matplotlib\n",
    "'''\n",
    "# matplotlib\n",
    "'''\n",
    "библиотека для рисования 2D (и 3D при импорте mplot3D) графиков\n",
    "'''\n",
    "# train_test_split\n",
    "'''\n",
    "утилита sklearn для разделения данных на несколько частей (train и test)\n",
    "'''\n",
    "# Pipelin%load_ext e (from sklearn.pipeline import Pipeline)\n",
    "'''\n",
    "Pipeline - утилита sklearn для пошагового преобразования данных\n",
    "%load_ext - загрузка расширений IPython \n",
    "'''\n",
    "# StandardScaler (from sklearn.preprocessing import StandardScaler)  \n",
    "'''\n",
    "стандартизация данных, изменение среднего и стандартного отклонения\n",
    "по умолчанию преобразование к виду с реднее = 0, стандартное отклонение = 1\n",
    "'''                                                                            \n",
    "# ClassifierMixin\n",
    "'''\n",
    "базовый класс классификаторов scikit-learn\n",
    "'''\n",
    "# NeighborsBase\n",
    "'''\n",
    "Базовый класс для оценок ближайших соседей\n",
    "'''\n",
    "# KNeighborsMixin\n",
    "'''\n",
    "Базовый класс для поиска по k соседям\n",
    "'''\n",
    "# SupervisedIntegerMixin\n",
    "'''\n",
    "Фиттинг модели по массиву данных X и вектору значений y\n",
    "'''"
   ]
  },
  {
   "cell_type": "code",
   "execution_count": null,
   "metadata": {},
   "outputs": [],
   "source": []
  }
 ],
 "metadata": {
  "kernelspec": {
   "display_name": "Python 3",
   "language": "python",
   "name": "python3"
  },
  "language_info": {
   "codemirror_mode": {
    "name": "ipython",
    "version": 3
   },
   "file_extension": ".py",
   "mimetype": "text/x-python",
   "name": "python",
   "nbconvert_exporter": "python",
   "pygments_lexer": "ipython3",
   "version": "3.6.5"
  }
 },
 "nbformat": 4,
 "nbformat_minor": 2
}
